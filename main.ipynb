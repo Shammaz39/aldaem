{
 "cells": [
  {
   "cell_type": "code",
   "execution_count": 1,
   "id": "55e3b0ce",
   "metadata": {},
   "outputs": [],
   "source": [
    "import tensorflow as tf\n",
    "\n",
    "from keras import optimizers\n",
    "from keras.utils import load_img, img_to_array\n",
    "from keras.models import Sequential\n",
    "from keras.layers import Dense, Flatten, Dropout, BatchNormalization, Conv2D, MaxPooling2D\n",
    "from keras.preprocessing.image import ImageDataGenerator\n",
    "from keras.callbacks import ModelCheckpoint, EarlyStopping\n",
    "\n",
    "from keras.applications import ResNet50, DenseNet201\n",
    "from keras.applications import resnet, densenet\n",
    "\n",
    "import numpy as np\n",
    "import matplotlib.pyplot as plt\n",
    "\n",
    "import cv2\n",
    "import os\n",
    "import pandas as pd\n",
    "\n",
    "\n"
   ]
  },
  {
   "cell_type": "code",
   "execution_count": 2,
   "id": "6dc4f688",
   "metadata": {},
   "outputs": [],
   "source": [
    "train_path = \"data/train\"\n",
    "valid_path = \"data/valid\"\n",
    "test_path = \"data/test\""
   ]
  },
  {
   "cell_type": "code",
   "execution_count": 3,
   "id": "ad63121f",
   "metadata": {},
   "outputs": [
    {
     "name": "stdout",
     "output_type": "stream",
     "text": [
      "Found 613 images belonging to 4 classes.\n",
      "Found 72 images belonging to 4 classes.\n",
      "Found 315 images belonging to 4 classes.\n"
     ]
    }
   ],
   "source": [
    "image_shape = (305,430,3)\n",
    "N_CLASSES = 4\n",
    "BATCH_SIZE = 32\n",
    "\n",
    "\n",
    "train_datagen = ImageDataGenerator(dtype='float32', rescale= 1./255.)\n",
    "train_generator = train_datagen.flow_from_directory(train_path,\n",
    "                                                   batch_size = BATCH_SIZE,\n",
    "                                                   target_size = (305,430),\n",
    "                                                   class_mode = 'categorical')\n",
    "\n",
    "valid_datagen = ImageDataGenerator(dtype='float32', rescale= 1./255.)\n",
    "valid_generator = valid_datagen.flow_from_directory(valid_path,\n",
    "                                                   batch_size = BATCH_SIZE,\n",
    "                                                   target_size = (305,430),\n",
    "                                                   class_mode = 'categorical')\n",
    "\n",
    "test_datagen = ImageDataGenerator(dtype='float32', rescale = 1.0/255.0)\n",
    "test_generator = test_datagen.flow_from_directory(test_path,\n",
    "                                                   batch_size = BATCH_SIZE,\n",
    "                                                   target_size = (305,430),\n",
    "                                                   class_mode = 'categorical')"
   ]
  },
  {
   "cell_type": "code",
   "execution_count": 4,
   "id": "67e50bc7",
   "metadata": {},
   "outputs": [],
   "source": [
    "from tensorflow.keras.models import load_model"
   ]
  },
  {
   "cell_type": "code",
   "execution_count": 6,
   "id": "f619bc35",
   "metadata": {},
   "outputs": [],
   "source": [
    "loaded_model = load_model('models/finalmodel-ResNet50.hdf5')"
   ]
  },
  {
   "cell_type": "code",
   "execution_count": 9,
   "id": "c8f806c2",
   "metadata": {},
   "outputs": [
    {
     "name": "stdout",
     "output_type": "stream",
     "text": [
      "1/1 [==============================] - 1s 563ms/step\n",
      "This image most likely belongs to large.cell.carcinoma with a 94.08 percent confidence.\n"
     ]
    }
   ],
   "source": [
    "img_path = r\"C:\\Users\\ACER\\Desktop\\Aldeam\\data\\test\\large.cell.carcinoma\\000110.png\"\n",
    "\n",
    "class_names=list(test_generator.class_indices.keys())\n",
    "\n",
    "img = tf.keras.utils.load_img(img_path, target_size=(460, 460))\n",
    "img_array = tf.keras.utils.img_to_array(img)\n",
    "img_array = tf.expand_dims(img_array, 0)\n",
    "\n",
    "prediction = loaded_model.predict(img_array)\n",
    "\n",
    "print(\n",
    "    \"This image most likely belongs to {} with a {:.2f} percent confidence.\"\n",
    "    .format(class_names[np.argmax(prediction)], 100 * np.max(prediction))\n",
    ")"
   ]
  },
  {
   "cell_type": "code",
   "execution_count": null,
   "id": "e9d1c439",
   "metadata": {},
   "outputs": [],
   "source": []
  },
  {
   "cell_type": "code",
   "execution_count": null,
   "id": "b3f7c91c",
   "metadata": {},
   "outputs": [],
   "source": []
  }
 ],
 "metadata": {
  "kernelspec": {
   "display_name": "Python 3 (ipykernel)",
   "language": "python",
   "name": "python3"
  },
  "language_info": {
   "codemirror_mode": {
    "name": "ipython",
    "version": 3
   },
   "file_extension": ".py",
   "mimetype": "text/x-python",
   "name": "python",
   "nbconvert_exporter": "python",
   "pygments_lexer": "ipython3",
   "version": "3.9.16"
  }
 },
 "nbformat": 4,
 "nbformat_minor": 5
}
